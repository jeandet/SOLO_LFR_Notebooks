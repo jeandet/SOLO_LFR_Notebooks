{
 "cells": [
  {
   "cell_type": "code",
   "execution_count": 1,
   "metadata": {
    "collapsed": true
   },
   "outputs": [],
   "source": [
    "import numpy as np\n",
    "import matplotlib\n",
    "matplotlib.use('Agg')\n",
    "import matplotlib.pyplot as plt\n",
    "import pandas as pds\n",
    "import os\n",
    "import glob\n",
    "from multiprocessing import dummy\n",
    "\n",
    "pool = dummy.Pool(3)\n",
    "\n",
    "files=glob.glob(\"/home/jeandet/Documents/DATA/BOOT_CUR_*C_*V.txt.csv.fixed.calibrated\")"
   ]
  },
  {
   "cell_type": "code",
   "execution_count": 2,
   "metadata": {},
   "outputs": [],
   "source": [
    "power_on_left_index=325000\n",
    "power_on_right_index=350000\n",
    "\n",
    "memory_wash_index={}\n",
    "sw_start_index={}\n",
    "for file in files:\n",
    "    calibrated=pds.read_csv(file,sep=\"\\t\")\n",
    "    \n",
    "    avg=calibrated[\"CH2\"].iloc[7000000:7000500].mean()\n",
    "    memory_wash_index[file]=np.where(calibrated[\"CH2\"].iloc[7000000:8000000]>=avg+30)[0][0]+7000000\n",
    "    \n",
    "    avg=calibrated[\"CH2\"].iloc[10100000:10100500].mean()\n",
    "    sw_start_index[file]=np.where(calibrated[\"CH2\"].iloc[10300000:10800000]>=avg+30)[0][0]+10300000\n",
    "    \n",
    "    del calibrated\n",
    "\n",
    "\"\"\"\n",
    "18+1 pulses, each RMAP packet is limited to 4*4000 bytes\n",
    "LFR FSW 3.0.0.22:\n",
    ".text segment = 285136 bytes\n",
    ".data segment = 4976 bytes\n",
    "\n",
    "-> .text correspond to 17.821  packets or 17x16000 bytes packets plus 1x13136 bytes packet\n",
    "-> .data correspond to 0.311 packet \n",
    "\n",
    "Auto detected before sw start\n",
    "\"\"\"\n",
    "\n",
    "\n",
    "SBM1_left_index=14100000\n",
    "SBM1_right_index=14350000\n",
    "\n"
   ]
  },
  {
   "cell_type": "code",
   "execution_count": 3,
   "metadata": {
    "collapsed": true
   },
   "outputs": [],
   "source": [
    "def plot(df,left,right,sufix):\n",
    "    if not os.path.isfile(file+sufix):\n",
    "        ax=df.iloc[left:right].plot(figsize=(24,12))\n",
    "        plt.ylabel('Current (mA)')\n",
    "        plt.xlabel('Time (µs)')\n",
    "        plt.savefig(file+sufix,dpi=1200,format='pdf')\n",
    "        plt.close()"
   ]
  },
  {
   "cell_type": "code",
   "execution_count": 4,
   "metadata": {
    "collapsed": true
   },
   "outputs": [],
   "source": [
    "for file in files:\n",
    "    if not os.path.isfile(file+\".pdf\"):\n",
    "        calibrated=pds.read_csv(file,sep=\"\\t\")\n",
    "        plot(calibrated,power_on_left_index,power_on_right_index,\"_power_on.pdf\")\n",
    "\n",
    "        index=memory_wash_index[file]\n",
    "        plot(calibrated,index-10000,index+150000,\"_memory_wash.pdf\")\n",
    "\n",
    "        index=sw_start_index[file]\n",
    "        plot(calibrated,index-320000,index-500,\"_spw_upload.pdf\")\n",
    "\n",
    "        index=sw_start_index[file]\n",
    "        plot(calibrated,index-2000,index+500000,\"_sw_start.pdf\")\n",
    "\n",
    "        plot(calibrated,SBM1_left_index,SBM1_right_index,\"_SBM1.pdf\")\n",
    "\n",
    "        plot(calibrated,0,-1,\".pdf\")\n",
    "        del calibrated\n"
   ]
  },
  {
   "cell_type": "code",
   "execution_count": null,
   "metadata": {
    "collapsed": true
   },
   "outputs": [],
   "source": []
  }
 ],
 "metadata": {
  "kernelspec": {
   "display_name": "Python 3",
   "language": "python",
   "name": "python3"
  },
  "language_info": {
   "codemirror_mode": {
    "name": "ipython",
    "version": 3
   },
   "file_extension": ".py",
   "mimetype": "text/x-python",
   "name": "python",
   "nbconvert_exporter": "python",
   "pygments_lexer": "ipython3",
   "version": "3.5.3"
  }
 },
 "nbformat": 4,
 "nbformat_minor": 2
}
